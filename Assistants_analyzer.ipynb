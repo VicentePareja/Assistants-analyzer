{
  "cells": [
    {
      "cell_type": "markdown",
      "metadata": {
        "id": "XxVI4iwkUAKd"
      },
      "source": [
        "## Hola! bienvenido a Bot analyzer. Aquí las instrucciones de uso."
      ]
    },
    {
      "cell_type": "markdown",
      "metadata": {
        "id": "Yck5zktWT6Nu"
      },
      "source": [
        "**Primero**, **sube el .zip** que recibiste.\n",
        "\n",
        "Debes seleccionar tu archivo presionando \"Choose files\" y luego esperar unos segundos."
      ]
    },
    {
      "cell_type": "code",
      "execution_count": null,
      "metadata": {
        "id": "_hSaShwETPRv"
      },
      "outputs": [],
      "source": [
        "from google.colab import files\n",
        "uploaded = files.upload()  # Esto abrirá un cuadro de diálogo para subir archivos."
      ]
    },
    {
      "cell_type": "markdown",
      "metadata": {
        "id": "Qv4ls22LUQfw"
      },
      "source": [
        "**Segundo**, descomprime el proyecto."
      ]
    },
    {
      "cell_type": "code",
      "execution_count": 2,
      "metadata": {
        "id": "7HRN0exRUIsu"
      },
      "outputs": [],
      "source": [
        "import zipfile\n",
        "import os\n",
        "\n",
        "# Nombre del archivo subido\n",
        "archivo_zip = \"Assistants-analyzer.zip\"\n",
        "\n",
        "# Extraer el contenido\n",
        "with zipfile.ZipFile(archivo_zip, 'r') as zip_ref:\n",
        "    zip_ref.extractall(\"Assistants-analyzer\")\n",
        "\n",
        "# Cambiar al directorio del proyecto\n",
        "os.chdir(\"Assistants-analyzer/Assistants-analyzer\")\n",
        "\n"
      ]
    },
    {
      "cell_type": "markdown",
      "metadata": {
        "id": "kMY-QfUuUgF5"
      },
      "source": [
        "**Tercero**, instala las dependencias.\n",
        "\n",
        "Podría llegar a salir un error, es por las versiones y actualizaciones de las dependencias. No es relevante."
      ]
    },
    {
      "cell_type": "code",
      "execution_count": null,
      "metadata": {
        "id": "bS37Qt-TUe9y"
      },
      "outputs": [],
      "source": [
        "!pip install -r requirements.txt --quiet\n"
      ]
    },
    {
      "cell_type": "markdown",
      "metadata": {
        "id": "ojb5Rfy1WEce"
      },
      "source": [
        "**Cuarto**, Corre el programa!\n",
        "\n",
        "**Te preguntará si quieres recopilar la información de los bots**. Este proceso es lento, por ello se te pregunta. **Si dices que sí** (yes), entonces **comenzará a crear la data**. En caso contrario, asumirá que ya tienes la data a analizar y comenzará a crear los reportes."
      ]
    },
    {
      "cell_type": "code",
      "execution_count": null,
      "metadata": {
        "id": "gjK4pCeAWCru"
      },
      "outputs": [],
      "source": [
        "!python main.py"
      ]
    },
    {
      "cell_type": "markdown",
      "metadata": {
        "id": "MSK6WQpLXMkY"
      },
      "source": [
        "Finalmente, visualiza el reporte que desees. Puedes cambiar el nombre del asistente en la celda inferior."
      ]
    },
    {
      "cell_type": "code",
      "execution_count": null,
      "metadata": {
        "id": "yML8-Zh5XRJy"
      },
      "outputs": [],
      "source": [
        "report_to_see = \"MyU\" # Este parametro es cambiable por el nombre de otro asistente\n",
        "\n",
        "from IPython.display import HTML, display\n",
        "\n",
        "# Abre el archivo HTML en Colab\n",
        "with open(f'data/reports/{report_to_see}_report.html', 'r') as file:\n",
        "    display(HTML(file.read()))\n",
        "\n"
      ]
    },
    {
      "cell_type": "markdown",
      "metadata": {
        "id": "oIie5XgEZa58"
      },
      "source": [
        "\n",
        "\n",
        "Para personalizar tu experiencia, puedes cambiar cosas del archivo Assistants-analyzer/parameters.py, hay un poco más de información en Assistants-analyzer/README.md"
      ]
    }
  ],
  "metadata": {
    "colab": {
      "provenance": []
    },
    "kernelspec": {
      "display_name": "Python 3",
      "name": "python3"
    },
    "language_info": {
      "name": "python"
    }
  },
  "nbformat": 4,
  "nbformat_minor": 0
}